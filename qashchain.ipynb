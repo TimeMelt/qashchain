{
 "cells": [
  {
   "cell_type": "markdown",
   "id": "cc5292ba",
   "metadata": {},
   "source": [
    "<p align='center'><img src=\"img/QashChain.png\" width=\"250\"></p>"
   ]
  },
  {
   "cell_type": "markdown",
   "id": "7d832d61-3c29-4f9f-a37a-3c34b286be23",
   "metadata": {},
   "source": [
    "# Qashchain - Quantum Blockchain\n",
    "##### Note: data stored on this blockchain is not encrypted, anyone with access to valid chain can read/write \n",
    "- blockchain powered by quantum hashing circuits\n",
    "- quantum hash circuits support superconductor and photonic operations\n",
    "- JAX is used for hardware acceleration\n",
    "  - only superconductor circuit supports JAX acceleration, photonic circuit does not\n",
    "- different simulators are compatible based on scenario\n",
    "  - superconductor:\n",
    "    - 'default.qubit.jax': default JAX powered simulator\n",
    "    - 'lightning.gpu': nvidia cuda/cuquantum powered simulator\n",
    "    - 'lightning.kokkos': kokkos c++ powered simulator (default build is OpenMP, Cuda option is also available)\n",
    "  - photonic:\n",
    "    - 'strawberryfields.fock': fock based simulator based on xanadu/strawberryfields\n",
    "    - 'strawberryfields.gaussian': gaussian simulator based on xanadu/strawberryfields (only gaussian operations supported)\n",
    "- proper usage would require a hybrid-classical-quantum system\n",
    "  - classical part handles blockchain functions\n",
    "  - quantum part handles hashing operations\n",
    "- this notebook does not cover aspect of deployment\n",
    "  - blockchain code can be adapted for a centralized or decentralized environment\n",
    "  - does not implement smart-contracts \n",
    "  - does not cover consensus algorithm\n",
    "  - user access control not implemented\n",
    "- certain values are only partially used in hashes for preformance purposes\n",
    "  - timestamp, previous_hash\n",
    "  - repeated characters such as '-' and '.' are removed from timestamp to increase hash security\n",
    "  - if number of qubits/wires is 3 than first 3 characters are from particular value are used\n",
    "  - if computing resources are available, these circuits support full hashes for all block values\n",
    "  - using entire previous_hash will lead to hash sizes increasing exponentially, therefore it is best to use a fixed number of qubits/wires\n",
    "    - performance bottleneck will probably arise if entire previous_hash is used vs using fixed qubit/wire number\n",
    "    - fixed number of qubits/wires will keep hash lengths more consistant"
   ]
  },
  {
   "cell_type": "code",
   "execution_count": 1,
   "id": "51b1b11b-9c48-40cb-95eb-e99ae4b2dcc8",
   "metadata": {
    "execution": {
     "iopub.execute_input": "2024-02-16T22:36:52.093901Z",
     "iopub.status.busy": "2024-02-16T22:36:52.093660Z",
     "iopub.status.idle": "2024-02-16T22:36:52.967195Z",
     "shell.execute_reply": "2024-02-16T22:36:52.966588Z",
     "shell.execute_reply.started": "2024-02-16T22:36:52.093889Z"
    }
   },
   "outputs": [],
   "source": [
    "import qkdc_helper as helper\n",
    "import blockchain as bchain"
   ]
  },
  {
   "cell_type": "markdown",
   "id": "a60e569a-b3c1-4287-92e6-c14fe7b18371",
   "metadata": {},
   "source": [
    "### Set x64 mode (double precision)\n",
    "- hashes have more variation using double precision mode\n",
    "- some JAX features, like JIT, require double precision mode"
   ]
  },
  {
   "cell_type": "code",
   "execution_count": 2,
   "id": "ee2fe86f-0fdc-4b09-93bf-e40e402d1a60",
   "metadata": {
    "execution": {
     "iopub.execute_input": "2024-02-16T22:36:52.968292Z",
     "iopub.status.busy": "2024-02-16T22:36:52.967916Z",
     "iopub.status.idle": "2024-02-16T22:36:52.970813Z",
     "shell.execute_reply": "2024-02-16T22:36:52.970383Z",
     "shell.execute_reply.started": "2024-02-16T22:36:52.968280Z"
    }
   },
   "outputs": [
    {
     "name": "stdout",
     "output_type": "stream",
     "text": [
      "jax float64 = enabled\n"
     ]
    }
   ],
   "source": [
    "x64_mode = True   # double precision float mode for JAX \n",
    "helper.x64Switch(x64_mode)"
   ]
  },
  {
   "cell_type": "markdown",
   "id": "50aaefd4-7c52-45a5-a262-2f584e1026b5",
   "metadata": {},
   "source": [
    "### Check JAX Platform (CPU vs GPU)\n",
    "##### Note: photonic circuit does not support JAX acceleration\n",
    "- check whether JAX is using CPU or GPU for acceleration\n",
    "- GPU usage requires Nvidia graphics card and cuda version of JAX\n",
    "- if constant-folding error occurs, comment out @partial in super_cirq.py"
   ]
  },
  {
   "cell_type": "code",
   "execution_count": 3,
   "id": "48075238-516f-4030-b1a3-17ee0eaabd31",
   "metadata": {
    "execution": {
     "iopub.execute_input": "2024-02-16T22:36:52.971484Z",
     "iopub.status.busy": "2024-02-16T22:36:52.971260Z",
     "iopub.status.idle": "2024-02-16T22:36:53.341274Z",
     "shell.execute_reply": "2024-02-16T22:36:53.340793Z",
     "shell.execute_reply.started": "2024-02-16T22:36:52.971474Z"
    }
   },
   "outputs": [
    {
     "name": "stdout",
     "output_type": "stream",
     "text": [
      "platform = gpu\n"
     ]
    }
   ],
   "source": [
    "helper.getBackend()"
   ]
  },
  {
   "cell_type": "markdown",
   "id": "888707e0-ba5f-49bf-9e10-f670a97786f9",
   "metadata": {},
   "source": [
    "### Define Parameters\n",
    "- string1, string2, string3 represent the data being stored on the blockchain\n",
    "- circuits: dictionary of possible circuits that can be used\n",
    "  - circuit type is set by circuit2use\n",
    "- devices: dictionary of possible simulators that can be used\n",
    "  - choice of simulator is set by device2use\n",
    "- pad_length: length of extra padding to apply to data input\n",
    "  - pad_length=2 is equivalent to adding 2 characters of padding\n",
    "  - pad_length=0 means no padding is applied\n",
    "- pepper: like a salt, but for quantum states\n",
    "  - is an array of floats representing quantum states per qubit/wire\n",
    "  - ex. jnp.array([0.0, 0.0, 0.0]) is a pepper that applied to 3 qubits/wires\n",
    "- seed: seed to use for random JAX stuff and Strong Entanglement layer\n",
    "  - must be integer type\n",
    "- num_wires: number of qubits/wires needed for quantum operations\n",
    "  - each qubit/wire corresponds to a character, so a string of length 3 requires 3 qubits/wires => num_wires=3"
   ]
  },
  {
   "cell_type": "code",
   "execution_count": 4,
   "id": "2762e3c9-314a-4a42-89ff-7072d93a95aa",
   "metadata": {
    "execution": {
     "iopub.execute_input": "2024-02-16T22:36:53.342377Z",
     "iopub.status.busy": "2024-02-16T22:36:53.342122Z",
     "iopub.status.idle": "2024-02-16T22:36:53.345185Z",
     "shell.execute_reply": "2024-02-16T22:36:53.344730Z",
     "shell.execute_reply.started": "2024-02-16T22:36:53.342366Z"
    }
   },
   "outputs": [],
   "source": [
    "string1 = 'block1'\n",
    "string2 = 'block2'\n",
    "string3 = 'block3'\n",
    "circuits = {\n",
    "    's': 'superconductor',\n",
    "    'p': 'photonic'\n",
    "}\n",
    "devices = {\n",
    "    'default': 'default.qubit.jax',\n",
    "    'nvidia': 'lightning.gpu',\n",
    "    'kokkos': 'lightning.kokkos',\n",
    "    'fock': 'strawberryfields.fock',\n",
    "    'gaussian': 'strawberryfields.gaussian'\n",
    "}\n",
    "circuit2use = circuits['s']\n",
    "device2use = devices['nvidia']\n",
    "pad_length = 0\n",
    "pepper = None # jnp.array([])\n",
    "seed = 0\n",
    "num_wires = len(string1) + pad_length"
   ]
  },
  {
   "cell_type": "markdown",
   "id": "f0476c34-b502-470f-a3cc-b649cbe47ee0",
   "metadata": {},
   "source": [
    "### Convert String Data and Apply Padding\n",
    "- convert data into array of floats\n",
    "  - float values are used for quantum operations\n",
    "- extra padding appends extra values to data to increase data size\n",
    "  - hashes vary in length based on string length so padding is a good way to keep hash lengths consistant"
   ]
  },
  {
   "cell_type": "code",
   "execution_count": 5,
   "id": "9db91772-8104-4820-ac03-d882f8739679",
   "metadata": {
    "execution": {
     "iopub.execute_input": "2024-02-16T22:36:53.346107Z",
     "iopub.status.busy": "2024-02-16T22:36:53.345865Z",
     "iopub.status.idle": "2024-02-16T22:36:53.753216Z",
     "shell.execute_reply": "2024-02-16T22:36:53.752776Z",
     "shell.execute_reply.started": "2024-02-16T22:36:53.346095Z"
    }
   },
   "outputs": [
    {
     "name": "stdout",
     "output_type": "stream",
     "text": [
      "data1 => [ 98. 108. 111.  99. 107.  49.]\n",
      "data2 => [ 98. 108. 111.  99. 107.  50.]\n",
      "data3 => [ 98. 108. 111.  99. 107.  51.]\n"
     ]
    }
   ],
   "source": [
    "data1 = helper.createAndPad(string1, pad_length)\n",
    "data2 = helper.createAndPad(string2, pad_length)\n",
    "data3 = helper.createAndPad(string3, pad_length)\n",
    "\n",
    "print(f\"data1 => {data1}\")\n",
    "print(f\"data2 => {data2}\")\n",
    "print(f\"data3 => {data3}\")"
   ]
  },
  {
   "cell_type": "markdown",
   "id": "d4dee7e1-ceb0-4a64-aa2b-eb0e098b1ce1",
   "metadata": {},
   "source": [
    "### Set Enviornment Variables"
   ]
  },
  {
   "cell_type": "code",
   "execution_count": 6,
   "id": "847caf6c-d60e-4db1-93c3-f42ffc224a66",
   "metadata": {
    "execution": {
     "iopub.execute_input": "2024-02-16T22:36:53.753833Z",
     "iopub.status.busy": "2024-02-16T22:36:53.753708Z",
     "iopub.status.idle": "2024-02-16T22:36:53.756545Z",
     "shell.execute_reply": "2024-02-16T22:36:53.756086Z",
     "shell.execute_reply.started": "2024-02-16T22:36:53.753823Z"
    }
   },
   "outputs": [
    {
     "name": "stdout",
     "output_type": "stream",
     "text": [
      "kokkos is not being used, no enviornment variables need to be set...\n"
     ]
    }
   ],
   "source": [
    "helper.setEnvVars(device2use)"
   ]
  },
  {
   "cell_type": "markdown",
   "id": "c7bc2e72-48f1-4805-a612-e3b8b565a3fd",
   "metadata": {},
   "source": [
    "### Create 1st Blockchain Ledger\n",
    "- no previous blockchain file is used/loaded\n",
    "    - genesis block has to be created since chain is being made from scratch\n",
    "- adding 2 data blocks to blockchain"
   ]
  },
  {
   "cell_type": "code",
   "execution_count": 7,
   "id": "387ec436-e72c-476a-b55b-adb5cf0436e1",
   "metadata": {
    "execution": {
     "iopub.execute_input": "2024-02-16T22:36:53.757303Z",
     "iopub.status.busy": "2024-02-16T22:36:53.757084Z",
     "iopub.status.idle": "2024-02-16T22:36:59.215169Z",
     "shell.execute_reply": "2024-02-16T22:36:59.214677Z",
     "shell.execute_reply.started": "2024-02-16T22:36:53.757291Z"
    }
   },
   "outputs": [
    {
     "name": "stdout",
     "output_type": "stream",
     "text": [
      "device 'lightning.gpu' is now set...\n",
      "circuit 'superconductor' is now set...\n",
      "no chain file specified, blank chain is being created...\n",
      "creating/adding genesis block...\n",
      "adding block 1...\n",
      "adding block 2...\n"
     ]
    }
   ],
   "source": [
    "ledger1 = bchain.Blockchain(None, device2use, circuit2use)\n",
    "ledger1.create_genesis_block(num_wires, seed, pepper)\n",
    "ledger1.add_block(data1, num_wires, seed, pepper)\n",
    "ledger1.add_block(data2, num_wires, seed, pepper)"
   ]
  },
  {
   "cell_type": "markdown",
   "id": "a1faae16-a9ad-4d70-8166-0f3e94fcc21c",
   "metadata": {},
   "source": [
    "### Print 1st Blockchain"
   ]
  },
  {
   "cell_type": "code",
   "execution_count": 8,
   "id": "6481f7f1-c311-4510-aa2a-4cf569f9b30c",
   "metadata": {
    "execution": {
     "iopub.execute_input": "2024-02-16T22:36:59.215775Z",
     "iopub.status.busy": "2024-02-16T22:36:59.215648Z",
     "iopub.status.idle": "2024-02-16T22:36:59.218781Z",
     "shell.execute_reply": "2024-02-16T22:36:59.218297Z",
     "shell.execute_reply.started": "2024-02-16T22:36:59.215763Z"
    }
   },
   "outputs": [
    {
     "name": "stdout",
     "output_type": "stream",
     "text": [
      "...\n",
      "index: 0\n",
      "timestamp: 2024-02-20 16:15:51.508270\n",
      "data: [48. 93. 70. 97. 46. 66.]\n",
      "previous hash: 28190738112e404bfd2a86e899c2400e6ce1ec40ccc74023f42a8dbfb818402c67f1edd699124043d248c2abb5da\n",
      "current hash: b5785bc278e0c0d15417922a40399a85185e7fcf3fa07ffdb5068e0040272d7a9437bdee40295576b06c67064051a38d9b8f32d8a348f23701ff4044736d95b2e6474023a4139443be04402a4aad0780a3b7401d4daa5d75df29404bad49d9db320a721ffe6e818840192c5d631e68f64041e848f21e00f84036d244aebfe15a402d16da175b3fc14043d59eeb6dc8bf\n",
      "...\n",
      "index: 1\n",
      "timestamp: 2024-02-20 16:15:53.035405\n",
      "data: [ 98. 108. 111.  99. 107.  49.]\n",
      "previous hash: b5785bc278e0c0d15417922a40399a85185e7fcf3fa07ffdb5068e0040272d7a9437bdee40295576b06c67064051a38d9b8f32d8a348f23701ff4044736d95b2e6474023a4139443be04402a4aad0780a3b7401d4daa5d75df29404bad49d9db320a721ffe6e818840192c5d631e68f64041e848f21e00f84036d244aebfe15a402d16da175b3fc14043d59eeb6dc8bf\n",
      "current hash: c5255496453cc0d15417922a40399a85185e7fcf3fa07ffdb5068e0040272d7a9437bdee40295576b06c67064051a38d9b8f32d8bbca8e0f809a4016dc6af7d286c83fe5e3bfe32edf0c3ff699442c481e5e40508cefd44317034041ee18aa04a617364616c3af18401493c6d37375c4402a3ff18ba0e68c4046430929d9eb6a405355d4dac08d724044d971b74ecfda\n",
      "...\n",
      "index: 2\n",
      "timestamp: 2024-02-20 16:15:56.333377\n",
      "data: [ 98. 108. 111.  99. 107.  50.]\n",
      "previous hash: c5255496453cc0d15417922a40399a85185e7fcf3fa07ffdb5068e0040272d7a9437bdee40295576b06c67064051a38d9b8f32d8bbca8e0f809a4016dc6af7d286c83fe5e3bfe32edf0c3ff699442c481e5e40508cefd44317034041ee18aa04a617364616c3af18401493c6d37375c4402a3ff18ba0e68c4046430929d9eb6a405355d4dac08d724044d971b74ecfda\n",
      "current hash: d1001662deb7c0d15417922a40399a85185e7fcf3fa07ffdb5068e0040272d7a9437bdee40295576b06c67064051a38d9b8f32d882aa9fae5a1140370162b6e7d4503fe8ec87cdaefede3ff645b7880c2d8540506e96629004044031a451c46281f3ad275ceb62ce404641d8912b7fcd404748cfe1015e7e40130a8d86b6e4cf404b895814cb9a15404dbbe48ed25c08\n",
      "...\n"
     ]
    }
   ],
   "source": [
    "ledger1.print_blocks()"
   ]
  },
  {
   "cell_type": "markdown",
   "id": "f0c5e2af-3255-4cb5-ba7d-b3800e48c2d7",
   "metadata": {},
   "source": [
    "### Print Data Values For Each Block in 1st Blockchain\n",
    "- this prints the converted data arrays back into strings"
   ]
  },
  {
   "cell_type": "code",
   "execution_count": 9,
   "id": "85ddf65f-4426-4a09-b2ed-7513ffd74666",
   "metadata": {
    "execution": {
     "iopub.execute_input": "2024-02-16T22:36:59.219262Z",
     "iopub.status.busy": "2024-02-16T22:36:59.219153Z",
     "iopub.status.idle": "2024-02-16T22:36:59.251425Z",
     "shell.execute_reply": "2024-02-16T22:36:59.250964Z",
     "shell.execute_reply.started": "2024-02-16T22:36:59.219253Z"
    }
   },
   "outputs": [
    {
     "name": "stdout",
     "output_type": "stream",
     "text": [
      "Ledger 1 Data Values:\n",
      "---------------------\n",
      "index:0 => 0]Fa.B\n",
      "index:1 => block1\n",
      "index:2 => block2\n"
     ]
    }
   ],
   "source": [
    "print(\"Ledger 1 Data Values:\")\n",
    "print(\"---------------------\")\n",
    "for block in ledger1.chain:\n",
    "    print(f\"index:{block.index} => {helper.convert2String(block.data)}\")"
   ]
  },
  {
   "cell_type": "markdown",
   "id": "313d3ff8-8346-42b8-8961-297b62eec987",
   "metadata": {},
   "source": [
    "### Save 1st Blockchain\n",
    "- save 1st blockchain to blockchain.npy"
   ]
  },
  {
   "cell_type": "code",
   "execution_count": 10,
   "id": "29ec0c73-299b-4b63-b198-ada1ccac5aac",
   "metadata": {
    "execution": {
     "iopub.execute_input": "2024-02-16T22:36:59.253084Z",
     "iopub.status.busy": "2024-02-16T22:36:59.252678Z",
     "iopub.status.idle": "2024-02-16T22:36:59.257521Z",
     "shell.execute_reply": "2024-02-16T22:36:59.257012Z",
     "shell.execute_reply.started": "2024-02-16T22:36:59.253071Z"
    }
   },
   "outputs": [],
   "source": [
    "ledger1.save_chain()"
   ]
  },
  {
   "cell_type": "markdown",
   "id": "d633878f-77b7-4aa0-a1a2-452f37a6fb78",
   "metadata": {},
   "source": [
    "### Create 2nd Blockchain and Add New Block\n",
    "- previous blockchain is loaded from .npy file\n",
    "- additional block is added to blockchain"
   ]
  },
  {
   "cell_type": "code",
   "execution_count": 11,
   "id": "a68ba28d-a426-49f8-bcca-1d4171826964",
   "metadata": {
    "execution": {
     "iopub.execute_input": "2024-02-16T22:36:59.258143Z",
     "iopub.status.busy": "2024-02-16T22:36:59.258018Z",
     "iopub.status.idle": "2024-02-16T22:36:59.359754Z",
     "shell.execute_reply": "2024-02-16T22:36:59.359027Z",
     "shell.execute_reply.started": "2024-02-16T22:36:59.258133Z"
    }
   },
   "outputs": [
    {
     "name": "stdout",
     "output_type": "stream",
     "text": [
      "device 'lightning.gpu' is now set...\n",
      "circuit 'superconductor' is now set...\n",
      "chain file is loading...\n",
      "adding block 3...\n"
     ]
    }
   ],
   "source": [
    "ledger2 = bchain.Blockchain('blockchain.npy', device2use, circuit2use)\n",
    "ledger2.add_block(data3, num_wires, seed, pepper)"
   ]
  },
  {
   "cell_type": "markdown",
   "id": "d961a4af-0df6-4087-94a3-8de07605efe1",
   "metadata": {},
   "source": [
    "### Print 2nd Blockchain"
   ]
  },
  {
   "cell_type": "code",
   "execution_count": 12,
   "id": "2bcdb180-07e0-4c70-960d-9b78de615baa",
   "metadata": {
    "execution": {
     "iopub.execute_input": "2024-02-16T22:36:59.360711Z",
     "iopub.status.busy": "2024-02-16T22:36:59.360437Z",
     "iopub.status.idle": "2024-02-16T22:36:59.364197Z",
     "shell.execute_reply": "2024-02-16T22:36:59.363714Z",
     "shell.execute_reply.started": "2024-02-16T22:36:59.360698Z"
    }
   },
   "outputs": [
    {
     "name": "stdout",
     "output_type": "stream",
     "text": [
      "...\n",
      "index: 0\n",
      "timestamp: 2024-02-20 16:15:51.508270\n",
      "data: [48. 93. 70. 97. 46. 66.]\n",
      "previous hash: 28190738112e404bfd2a86e899c2400e6ce1ec40ccc74023f42a8dbfb818402c67f1edd699124043d248c2abb5da\n",
      "current hash: b5785bc278e0c0d15417922a40399a85185e7fcf3fa07ffdb5068e0040272d7a9437bdee40295576b06c67064051a38d9b8f32d8a348f23701ff4044736d95b2e6474023a4139443be04402a4aad0780a3b7401d4daa5d75df29404bad49d9db320a721ffe6e818840192c5d631e68f64041e848f21e00f84036d244aebfe15a402d16da175b3fc14043d59eeb6dc8bf\n",
      "...\n",
      "index: 1\n",
      "timestamp: 2024-02-20 16:15:53.035405\n",
      "data: [ 98. 108. 111.  99. 107.  49.]\n",
      "previous hash: b5785bc278e0c0d15417922a40399a85185e7fcf3fa07ffdb5068e0040272d7a9437bdee40295576b06c67064051a38d9b8f32d8a348f23701ff4044736d95b2e6474023a4139443be04402a4aad0780a3b7401d4daa5d75df29404bad49d9db320a721ffe6e818840192c5d631e68f64041e848f21e00f84036d244aebfe15a402d16da175b3fc14043d59eeb6dc8bf\n",
      "current hash: c5255496453cc0d15417922a40399a85185e7fcf3fa07ffdb5068e0040272d7a9437bdee40295576b06c67064051a38d9b8f32d8bbca8e0f809a4016dc6af7d286c83fe5e3bfe32edf0c3ff699442c481e5e40508cefd44317034041ee18aa04a617364616c3af18401493c6d37375c4402a3ff18ba0e68c4046430929d9eb6a405355d4dac08d724044d971b74ecfda\n",
      "...\n",
      "index: 2\n",
      "timestamp: 2024-02-20 16:15:56.333377\n",
      "data: [ 98. 108. 111.  99. 107.  50.]\n",
      "previous hash: c5255496453cc0d15417922a40399a85185e7fcf3fa07ffdb5068e0040272d7a9437bdee40295576b06c67064051a38d9b8f32d8bbca8e0f809a4016dc6af7d286c83fe5e3bfe32edf0c3ff699442c481e5e40508cefd44317034041ee18aa04a617364616c3af18401493c6d37375c4402a3ff18ba0e68c4046430929d9eb6a405355d4dac08d724044d971b74ecfda\n",
      "current hash: d1001662deb7c0d15417922a40399a85185e7fcf3fa07ffdb5068e0040272d7a9437bdee40295576b06c67064051a38d9b8f32d882aa9fae5a1140370162b6e7d4503fe8ec87cdaefede3ff645b7880c2d8540506e96629004044031a451c46281f3ad275ceb62ce404641d8912b7fcd404748cfe1015e7e40130a8d86b6e4cf404b895814cb9a15404dbbe48ed25c08\n",
      "...\n",
      "index: 3\n",
      "timestamp: 2024-02-20 16:15:56.503263\n",
      "data: [ 98. 108. 111.  99. 107.  51.]\n",
      "previous hash: d1001662deb7c0d15417922a40399a85185e7fcf3fa07ffdb5068e0040272d7a9437bdee40295576b06c67064051a38d9b8f32d882aa9fae5a1140370162b6e7d4503fe8ec87cdaefede3ff645b7880c2d8540506e96629004044031a451c46281f3ad275ceb62ce404641d8912b7fcd404748cfe1015e7e40130a8d86b6e4cf404b895814cb9a15404dbbe48ed25c08\n",
      "current hash: 757996e11de3c0d15417922a40399a85185e7fcf3fa07ffdb5068e0040272d7a9437bdee40295576b06c67064051a38d9b8f32d809126973dd6540108df92877b7463ff11b30d18caf6a4004e24fdbc397d14054225f62e4ee1b40397b430179d5cc680664cfc7df403e0c9af1b415d1402283085c9ec913401ec279b6f2ff3b4052a32e01506f39403d82819e85aa14\n",
      "...\n"
     ]
    }
   ],
   "source": [
    "ledger2.print_blocks()"
   ]
  },
  {
   "cell_type": "markdown",
   "id": "00b67c08-f146-4a40-aa33-2107f8115fbb",
   "metadata": {},
   "source": [
    "### Print Data Values For Each Block in 2nd Blockchain"
   ]
  },
  {
   "cell_type": "code",
   "execution_count": 13,
   "id": "07a96c4b-fd0e-4f8e-9845-e016bd1217ee",
   "metadata": {
    "execution": {
     "iopub.execute_input": "2024-02-16T22:36:59.365129Z",
     "iopub.status.busy": "2024-02-16T22:36:59.364778Z",
     "iopub.status.idle": "2024-02-16T22:36:59.380023Z",
     "shell.execute_reply": "2024-02-16T22:36:59.379266Z",
     "shell.execute_reply.started": "2024-02-16T22:36:59.365114Z"
    }
   },
   "outputs": [
    {
     "name": "stdout",
     "output_type": "stream",
     "text": [
      "Ledger 2 Data Values:\n",
      "---------------------\n",
      "index:0 => 0]Fa.B\n",
      "index:1 => block1\n",
      "index:2 => block2\n",
      "index:3 => block3\n"
     ]
    }
   ],
   "source": [
    "print(\"Ledger 2 Data Values:\")\n",
    "print(\"---------------------\")\n",
    "for block in ledger2.chain:\n",
    "    print(f\"index:{block.index} => {helper.convert2String(block.data)}\")"
   ]
  }
 ],
 "metadata": {
  "kernelspec": {
   "display_name": "Python 3 (ipykernel)",
   "language": "python",
   "name": "python3"
  },
  "language_info": {
   "codemirror_mode": {
    "name": "ipython",
    "version": 3
   },
   "file_extension": ".py",
   "mimetype": "text/x-python",
   "name": "python",
   "nbconvert_exporter": "python",
   "pygments_lexer": "ipython3",
   "version": "3.11.7"
  }
 },
 "nbformat": 4,
 "nbformat_minor": 5
}
